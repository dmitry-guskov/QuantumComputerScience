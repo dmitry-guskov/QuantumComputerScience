{
    "cells": [
        {
            "cell_type": "markdown",
            "metadata": {},
            "source": [
                "Before you begin, execute this cell to import numpy and packages from the D-Wave Ocean suite, and all necessary functions for the gate-model framework you are going to use, whether that is the Forest SDK or Qiskit. In the case of Forest SDK, it also starts the qvm and quilc servers."
            ]
        },
        {
            "cell_type": "code",
            "execution_count": 59,
            "metadata": {
                "collapsed": true
            },
            "outputs": [],
            "source": [
                "# %run -i \"assignment_helper.py\"\n",
                "from helper import *\n",
                "%matplotlib inline"
            ]
        },
        {
            "cell_type": "markdown",
            "metadata": {},
            "source": [
                "**Exercise 1** (1 point). We want to solve the equation $Ax=b$ with $A = \\begin{bmatrix}1 & 0 \\\\0 & -1 \\\\ \\end{bmatrix}$ and $b =\\begin{bmatrix} 0 \\\\ 1 \\\\ \\end{bmatrix}$ with quantum matrix inversion. We will encode $A$ in the unitary matrix $U=e^{iAt_0}$ with $t_0=\\pi/2$, and $b$ in a register. With the ancilla (qubit 0), the eigenvalue registers (or the ancilla qubits of phase estimation, qubits 1 and 2), and the eigenstate, you will need a total of four qubits and one classical register for post-selection. Prepare the superposition in the eigenvalue register and the vector $b$. Place your solution in an object called `hhl`."
            ]
        },
        {
            "cell_type": "code",
            "execution_count": 60,
            "metadata": {
                "collapsed": true
            },
            "outputs": [],
            "source": [
                "q = QuantumRegister(4)\n",
                "c = ClassicalRegister(1)\n",
                "hhl = QuantumCircuit(q, c)\n"
            ]
        },
        {
            "cell_type": "code",
            "execution_count": 61,
            "metadata": {},
            "outputs": [
                {
                    "data": {
                        "image/png": "[encoded data removed]",
                        "text/plain": [
                            "<Figure size 173.34x325.08 with 1 Axes>"
                        ]
                    },
                    "execution_count": 61,
                    "metadata": {},
                    "output_type": "execute_result"
                }
            ],
            "source": [
                "# load b vector in |b> state. As |b>=|1>\n",
                "hhl.x(q[3])\n",
                "\n",
                "# put the qubits of |psi> in uniform superposition\n",
                "hhl.h(q[1])\n",
                "hhl.h(q[2])\n",
                "\n",
                "hhl.draw('mpl')"
            ]
        },
        {
            "cell_type": "code",
            "execution_count": 62,
            "metadata": {
                "collapsed": true,
                "deletable": false,
                "editable": false,
                "nbgrader": {
                    "grade": true,
                    "grade_id": "exercise1",
                    "locked": true,
                    "points": "1",
                    "solution": false
                }
            },
            "outputs": [],
            "source": [
                "amplitudes = get_amplitudes(hhl)\n",
                "assert np.allclose(amplitudes, np.array([0. +0.j, 0. +0.j, 0. +0.j, 0. +0.j, 0. +0.j, 0. +0.j, 0. +0.j,\n",
                "       0. +0.j, 0.5+0.j, 0. +0.j, 0.5+0.j, 0. +0.j, 0.5+0.j, 0. +0.j, 0.5+0.j, 0. +0.j]))"
            ]
        },
        {
            "cell_type": "markdown",
            "metadata": {},
            "source": [
                "**Exercise 2** (2 points). Start the quantum phase estimation by applying $C-U^{2^0}$ and $C-U^{2^1}$. Extend the circuit with the two appropriate gates."
            ]
        },
        {
            "cell_type": "markdown",
            "metadata": {},
            "source": [
                "$ RZ(\\lambda)  = exp(-i\\frac{\\lambda}{2}Z)$ ->\\\n",
                "$ U = RZ(-\\pi)$"
            ]
        },
        {
            "cell_type": "code",
            "execution_count": 63,
            "metadata": {},
            "outputs": [],
            "source": [
                "from scipy.linalg import expm  "
            ]
        },
        {
            "cell_type": "code",
            "execution_count": 75,
            "metadata": {},
            "outputs": [
                {
                    "data": {
                        "text/plain": [
                            "array([[1.-2.4492936e-16j, 0.-0.0000000e+00j],\n",
                            "       [0.-0.0000000e+00j, 1.+2.4492936e-16j]])"
                        ]
                    },
                    "execution_count": 75,
                    "metadata": {},
                    "output_type": "execute_result"
                }
            ],
            "source": [
                "expm(  2*np.pi * 1j*np.array([[1,0],[0,-1]]))"
            ]
        },
        {
            "cell_type": "code",
            "execution_count": 65,
            "metadata": {},
            "outputs": [],
            "source": [
                "from qiskit.quantum_info.operators import Operator"
            ]
        },
        {
            "cell_type": "code",
            "execution_count": 73,
            "metadata": {},
            "outputs": [
                {
                    "data": {
                        "text/plain": [
                            "Operator([[-1.-1.2246468e-16j,  0.+0.0000000e+00j],\n",
                            "          [ 0.+0.0000000e+00j, -1.+1.2246468e-16j]],\n",
                            "         input_dims=(2,), output_dims=(2,))"
                        ]
                    },
                    "execution_count": 73,
                    "metadata": {},
                    "output_type": "execute_result"
                }
            ],
            "source": [
                "Operator(qiskit.circuit.library.RZGate(2*np.pi))"
            ]
        },
        {
            "cell_type": "code",
            "execution_count": 67,
            "metadata": {
                "ExecuteTime": {
                    "end_time": "2019-01-31T15:46:05.496117Z",
                    "start_time": "2019-01-31T15:46:05.463504Z"
                },
                "collapsed": true
            },
            "outputs": [
                {
                    "data": {
                        "image/png": "[encoded data removed]",
                        "text/plain": [
                            "<Figure size 353.94x325.08 with 1 Axes>"
                        ]
                    },
                    "execution_count": 67,
                    "metadata": {},
                    "output_type": "execute_result"
                }
            ],
            "source": [
                "hhl.crz(-2*np.pi,q[2],q[3])\n",
                "\n",
                "# The controlled-U2 operator is a simple crz gate\n",
                "hhl.crz(-2*np.pi,q[1],q[3])\n",
                "hhl.crz(-2*np.pi,q[1],q[3])\n",
                "hhl.draw('mpl')"
            ]
        },
        {
            "cell_type": "code",
            "execution_count": 68,
            "metadata": {
                "collapsed": true,
                "deletable": false,
                "editable": false,
                "nbgrader": {
                    "grade": true,
                    "grade_id": "exercise2",
                    "locked": true,
                    "points": "2",
                    "solution": false
                }
            },
            "outputs": [],
            "source": [
                "amplitudes = get_amplitudes(hhl)\n",
                "assert np.allclose(amplitudes, np.array([ 0. +0.j,  0. +0.j,  0. +0.j,  0. +0.j,  0. +0.j,  0. +0.j,\n",
                "                                          0. +0.j,  0. +0.j,  0.5+0.j,  0. +0.j,  0.5+0.j,  0. +0.j,\n",
                "                                         -0.5+0.j,  0. +0.j, -0.5+0.j,  0. +0.j]))"
            ]
        },
        {
            "cell_type": "code",
            "execution_count": 69,
            "metadata": {},
            "outputs": [
                {
                    "data": {
                        "text/plain": [
                            "array([ 0. +0.j,  0. +0.j,  0. -0.j,  0. +0.j, -0. +0.j,  0. +0.j,\n",
                            "       -0. +0.j,  0. +0.j,  0.5+0.j,  0. +0.j,  0.5+0.j,  0. +0.j,\n",
                            "       -0.5-0.j,  0. +0.j, -0.5-0.j,  0. +0.j])"
                        ]
                    },
                    "execution_count": 69,
                    "metadata": {},
                    "output_type": "execute_result"
                }
            ],
            "source": [
                "np.round(amplitudes.data,4)"
            ]
        },
        {
            "cell_type": "markdown",
            "metadata": {},
            "source": [
                "**Exercise 3** (1 point). Apply the quantum inverse Fourier transformation. Don't forget the swap just before the transformation."
            ]
        },
        {
            "cell_type": "code",
            "execution_count": 76,
            "metadata": {
                "ExecuteTime": {
                    "end_time": "2019-01-31T15:46:05.500661Z",
                    "start_time": "2019-01-31T15:46:05.497677Z"
                },
                "collapsed": true
            },
            "outputs": [
                {
                    "data": {
                        "image/png": "[encoded data removed]",
                        "text/plain": [
                            "<Figure size 654.94x325.08 with 1 Axes>"
                        ]
                    },
                    "execution_count": 76,
                    "metadata": {},
                    "output_type": "execute_result"
                }
            ],
            "source": [
                "hhl.swap(q[1], q[2])\n",
                "hhl.h(q[2])\n",
                "hhl.cp(-np.pi/ 2, q[1], q[2])\n",
                "hhl.h(q[1])\n",
                "\n",
                "hhl.draw('mpl')"
            ]
        },
        {
            "cell_type": "code",
            "execution_count": 77,
            "metadata": {
                "collapsed": true,
                "deletable": false,
                "editable": false,
                "nbgrader": {
                    "grade": true,
                    "grade_id": "exercise3",
                    "locked": true,
                    "points": "1",
                    "solution": false
                }
            },
            "outputs": [],
            "source": [
                "amplitudes = get_amplitudes(hhl)\n",
                "assert np.allclose(amplitudes, np.array([0.+0.j, 0.+0.j, 0.+0.j, 0.+0.j, 0.+0.j, 0.+0.j, 0.+0.j, 0.+0.j,\n",
                "                                         0.+0.j, 0.+0.j, 1.+0.j, 0.+0.j, 0.+0.j, 0.+0.j, 0.+0.j, 0.+0.j]))"
            ]
        },
        {
            "cell_type": "markdown",
            "metadata": {},
            "source": [
                "**Exercise 4** (1 point). After this step, swap the eigenvalue registers again (this time to perform the inversion) and apply the controlled rotation. Use the same angle as in the lecture notebook."
            ]
        },
        {
            "cell_type": "code",
            "execution_count": 81,
            "metadata": {
                "ExecuteTime": {
                    "end_time": "2019-01-31T15:46:05.508179Z",
                    "start_time": "2019-01-31T15:46:05.502279Z"
                },
                "collapsed": true
            },
            "outputs": [
                {
                    "data": {
                        "image/png": "[encoded data removed]",
                        "text/plain": [
                            "<Figure size 835.54x325.08 with 1 Axes>"
                        ]
                    },
                    "execution_count": 81,
                    "metadata": {},
                    "output_type": "execute_result"
                }
            ],
            "source": [
                "hhl.swap(q[1], q[2])\n",
                "\n",
                "# apply a controlled rotation over pi/8 on the most significant bit of the eigenvalue register \n",
                "hhl.cry(0.392699, q[1], q[0])\n",
                "\n",
                "# apply a controlled rotation over pi/16 on the most significant bit of the eigenvalue register \n",
                "hhl.cry(0.19634955, q[2], q[0])\n",
                "\n",
                "hhl.draw('mpl')"
            ]
        },
        {
            "cell_type": "code",
            "execution_count": 82,
            "metadata": {
                "collapsed": true,
                "deletable": false,
                "editable": false,
                "nbgrader": {
                    "grade": true,
                    "grade_id": "exercise4",
                    "locked": true,
                    "points": "1",
                    "solution": false
                }
            },
            "outputs": [],
            "source": [
                "amplitudes = get_amplitudes(hhl)\n",
                "assert np.allclose(amplitudes, np.array([0.        +0.j, 0.        +0.j, 0.        +0.j, 0.        +0.j,\n",
                "                                         0.        +0.j, 0.        +0.j, 0.        +0.j, 0.        +0.j,\n",
                "                                         0.        +0.j, 0.        +0.j, 0.        +0.j, 0.        +0.j,\n",
                "                                         0.99518473+0.j, 0.09801714+0.j, 0.        +0.j, 0.        +0.j]))"
            ]
        },
        {
            "cell_type": "markdown",
            "metadata": {},
            "source": [
                "**Exercise 5** (2 points). Uncompute the eigenvalue register"
            ]
        },
        {
            "cell_type": "code",
            "execution_count": 83,
            "metadata": {
                "collapsed": true
            },
            "outputs": [
                {
                    "data": {
                        "image/png": "[encoded data removed]",
                        "text/plain": [
                            "<Figure size 1437.54x325.08 with 1 Axes>"
                        ]
                    },
                    "execution_count": 83,
                    "metadata": {},
                    "output_type": "execute_result"
                }
            ],
            "source": [
                "hhl.swap(q[1], q[2])\n",
                "hhl.h(q[1])\n",
                "hhl.cp(np.pi / 2, q[1], q[2])\n",
                "hhl.h(q[2])\n",
                "hhl.swap(q[2], q[1])\n",
                "\n",
                "# Apply the inverse Controlled-U2 (actually the gate is its own inverse)\n",
                "hhl.crz(2*np.pi,q[1], q[3])\n",
                "hhl.crz(2*np.pi,q[1], q[3])\n",
                "hhl.crz(2*np.pi,q[2], q[3])\n",
                "\n",
                "# Bring the eigenvalue register back to its |00> state\n",
                "hhl.h(q[2])\n",
                "hhl.h(q[1])\n",
                "\n",
                "hhl.draw('mpl')"
            ]
        },
        {
            "cell_type": "code",
            "execution_count": 84,
            "metadata": {
                "collapsed": true
            },
            "outputs": [
                {
                    "name": "stdout",
                    "output_type": "stream",
                    "text": [
                        "Statevector([ 1.93022864e-33+7.49879891e-33j,\n",
                        "             -3.58635797e-34-1.68336617e-49j,\n",
                        "             -5.48358618e-33+5.54848130e-33j,\n",
                        "             -1.21587779e-33+9.78536405e-34j,\n",
                        "              6.09374895e-17-1.86567254e-32j,\n",
                        "              6.00181914e-18-1.83752715e-33j,\n",
                        "              5.42585050e-33+5.33800434e-33j,\n",
                        "              1.51767078e-33+1.74750846e-33j,\n",
                        "             -1.89343110e-17+4.30548353e-33j,\n",
                        "             -9.39433768e-19+2.26068417e-33j,\n",
                        "              3.29810557e-17-2.70747225e-17j,\n",
                        "              7.78582170e-18-4.16001277e-18j,\n",
                        "              9.95184726e-01+6.09374895e-17j,\n",
                        "              9.80171449e-02+6.00181914e-18j,\n",
                        "             -2.65365977e-17-3.20590989e-17j,\n",
                        "             -6.79376817e-18-1.09810398e-17j],\n",
                        "            dims=(2, 2, 2, 2))\n"
                    ]
                }
            ],
            "source": [
                "amplitudes"
            ]
        },
        {
            "cell_type": "code",
            "execution_count": 85,
            "metadata": {
                "collapsed": true,
                "deletable": false,
                "editable": false,
                "nbgrader": {
                    "grade": true,
                    "grade_id": "exercise5",
                    "locked": true,
                    "points": "2",
                    "solution": false
                }
            },
            "outputs": [],
            "source": [
                "amplitudes = get_amplitudes(hhl)\n",
                "assert np.allclose(amplitudes, np.array([0.        +0.j, 0.        +0.j, 0.        +0.j, 0.        +0.j,\n",
                "                                         0.        +0.j, 0.        +0.j, 0.        +0.j, 0.        +0.j,\n",
                "                                         0.99518473+0.j, 0.09801714+0.j, 0.        +0.j, 0.        +0.j,\n",
                "                                         0.        +0.j, 0.        +0.j, 0.        +0.j, 0.        +0.j]))"
            ]
        },
        {
            "cell_type": "markdown",
            "metadata": {},
            "source": [
                "At this point, if we measure 1 in the ancilla (qubit 0), the state will be proportional to $A^{-1}b = \\sum_j \\beta_j\\lambda_j^{-1}\\left|u_j\\right\\rangle=0 \\frac{1}{1} |0\\rangle + 1 \\frac{1}{-1} |1\\rangle=-|1\\rangle$."
            ]
        },
        {
            "cell_type": "code",
            "execution_count": 93,
            "metadata": {},
            "outputs": [],
            "source": [
                "from qiskit import BasicAer"
            ]
        },
        {
            "cell_type": "code",
            "execution_count": 102,
            "metadata": {
                "collapsed": true
            },
            "outputs": [
                {
                    "name": "stdout",
                    "output_type": "stream",
                    "text": [
                        "x =  0 |0> +/- 1.0 |1>\n"
                    ]
                }
            ],
            "source": [
                "\n",
                "#measure the ancilla |a'>\n",
                "hhl.measure(q[3],c[0])\n",
                "\n",
                "\n",
                "shots = 30000\n",
                "backend = Aer.get_backend('qasm_simulator')\n",
                "job = execute(hhl, backend, shots=shots)\n",
                "result = job.result()\n",
                "counts = result.get_counts(hhl)\n",
                "\n",
                "# x0 = np.sqrt(counts['0']/shots)*16/np.pi  <--- there is none\n",
                "x0 = 0\n",
                "x1 = np.sqrt(counts['1']/shots)\n",
                "\n",
                "print('x = ', x0, '|0> +/-', x1, '|1>')"
            ]
        }
    ],
    "metadata": {
        "kernelspec": {
            "display_name": "Python 3 [3.6]",
            "language": "python",
            "name": "python3"
        },
        "language_info": {
            "codemirror_mode": {
                "name": "ipython",
                "version": 3
            },
            "file_extension": ".py",
            "mimetype": "text/x-python",
            "name": "python",
            "nbconvert_exporter": "python",
            "pygments_lexer": "ipython3",
            "version": "3.10.2"
        },
        "varInspector": {
            "cols": {
                "lenName": 16,
                "lenType": 16,
                "lenVar": 40
            },
            "kernels_config": {
                "python": {
                    "delete_cmd_postfix": "",
                    "delete_cmd_prefix": "del ",
                    "library": "var_list.py",
                    "varRefreshCmd": "print(var_dic_list())"
                },
                "r": {
                    "delete_cmd_postfix": ") ",
                    "delete_cmd_prefix": "rm(",
                    "library": "var_list.r",
                    "varRefreshCmd": "cat(var_dic_list()) "
                }
            },
            "types_to_exclude": [
                "module",
                "function",
                "builtin_function_or_method",
                "instance",
                "_Feature"
            ],
            "window_display": false
        }
    },
    "nbformat": 4,
    "nbformat_minor": 2
}
