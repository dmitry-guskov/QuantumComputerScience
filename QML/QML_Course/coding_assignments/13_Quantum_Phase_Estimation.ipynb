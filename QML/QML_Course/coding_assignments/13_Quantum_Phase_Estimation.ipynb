{
    "cells": [
        {
            "cell_type": "markdown",
            "metadata": {},
            "source": [
                "Before you begin, execute this cell to import numpy and packages from the D-Wave Ocean suite, and all necessary functions for the gate-model framework you are going to use, whether that is the Forest SDK or Qiskit. In the case of Forest SDK, it also starts the qvm and quilc servers."
            ]
        },
        {
            "cell_type": "code",
            "execution_count": 1,
            "metadata": {
                "collapsed": true
            },
            "outputs": [],
            "source": [
                "# %run -i \"assignment_helper.py\"\n",
                "from helper import *\n",
                "%matplotlib inline"
            ]
        },
        {
            "cell_type": "markdown",
            "metadata": {},
            "source": [
                "# Quantum Fourier Transform\n",
                "\n",
                "**Exercise 1** (3 points). The quantum Fourier transform acts on an amplitude-encoded variant of a normalized vector, the quantum state $|x\\rangle=\\sum_{i=0}^{N-1} x_i |i \\rangle$. It maps this state to $|y\\rangle=\\sum_{k=0}^{N-1} y_k |k \\rangle$, where $y_k = \\frac{1}{\\sqrt{N}}\\sum_{j=0}^{N-1}x_je^{\\boldsymbol{2\\pi i} \\frac{jk}{N}}$. If you have a two-dimensional vector to transform, you only need a single qubit, and the transformation reduces to $U |x \\rangle = \\frac{1}{\\sqrt{2}} \\left(|0\\rangle + e^{\\boldsymbol{2\\pi i} 0.x_1} |1\\rangle\\right)$. Implement this circuit. Place your solution in an object called `qft`. "
            ]
        },
        {
            "cell_type": "code",
            "execution_count": 12,
            "metadata": {
                "ExecuteTime": {
                    "end_time": "2019-01-31T14:49:02.890655Z",
                    "start_time": "2019-01-31T14:49:02.841869Z"
                },
                "collapsed": true
            },
            "outputs": [
                {
                    "data": {
                        "image/png": "[encoded data removed]",
                        "text/plain": [
                            "<Figure size 133.526x144.48 with 1 Axes>"
                        ]
                    },
                    "execution_count": 12,
                    "metadata": {},
                    "output_type": "execute_result"
                }
            ],
            "source": [
                "q = QuantumRegister(1, 'q')\n",
                "c = ClassicalRegister(1, 'c')\n",
                "qft = QuantumCircuit(q, c)\n",
                "\n",
                "qft.h(0)\n",
                "# qft.p(np.pi/2,0)\n",
                "qft.draw('mpl')"
            ]
        },
        {
            "cell_type": "code",
            "execution_count": 14,
            "metadata": {
                "collapsed": true,
                "deletable": false,
                "editable": false,
                "nbgrader": {
                    "grade": true,
                    "grade_id": "exercise1",
                    "locked": true,
                    "points": "3",
                    "solution": false
                }
            },
            "outputs": [
                {
                    "name": "stdout",
                    "output_type": "stream",
                    "text": [
                        "       QFT      [0.70710678+0.j 0.70710678+0.j]\n",
                        " numpy FFT      [0.5+0.j 0.5+0.j]\n"
                    ]
                }
            ],
            "source": [
                "res = execute(qft, Aer.get_backend('statevector_simulator')).result()\n",
                "qft_outp = np.array(res.get_statevector(qft))\n",
                "print('       QFT     ',qft_outp)\n",
                "x = np.array([1., 0.])\n",
                "y = np.fft.ifft(x)\n",
                "print(' numpy FFT     ',y)\n"
            ]
        },
        {
            "cell_type": "markdown",
            "metadata": {},
            "source": [
                "**Exercise 2** (1 point). Implement the inverse quantum Fourier transformation on a single qubit. Place your solution in an object called `iqft`. "
            ]
        },
        {
            "cell_type": "code",
            "execution_count": null,
            "metadata": {
                "collapsed": true
            },
            "outputs": [],
            "source": [
                "###\n",
                "### YOUR CODE HERE\n",
                "###\n"
            ]
        },
        {
            "cell_type": "code",
            "execution_count": null,
            "metadata": {
                "collapsed": true,
                "deletable": false,
                "editable": false,
                "nbgrader": {
                    "grade": true,
                    "grade_id": "exercise2",
                    "locked": true,
                    "points": "1",
                    "solution": false
                }
            },
            "outputs": [],
            "source": [
                "###\n",
                "### AUTOGRADER TEST - DO NOT REMOVE\n",
                "###\n"
            ]
        },
        {
            "cell_type": "markdown",
            "metadata": {},
            "source": [
                "# Quantum phase estimation\n",
                "\n",
                "**Exercise 3** (3 points). Phase estimation pivots on the controlled application of powers of a unitary matrix, followed by an inverse Fourier transformation. Take the $2\\times 2$ unitary matrix $\\begin{bmatrix}1 & 0 \\\\0 & i\\end{bmatrix}$. This operation has two eigenvectors, $|0\\rangle$ and $|1\\rangle$. Implement the first part of the quantum phase estimation with two ancilla qubits: add the necessary Hadamard gates on the ancilla qubits and apply $C-U^{2^0}$ and $C-U^{2^1}$. Qubits 0 and 1 should be the ancilla, and qubit 2 contains the eigenvector -- you can assume that this is $|0\\rangle$. Place your solution in an object called `qpe`. "
            ]
        },
        {
            "cell_type": "code",
            "execution_count": 18,
            "metadata": {
                "collapsed": true
            },
            "outputs": [
                {
                    "data": {
                        "image/png": "[encoded data removed]",
                        "text/plain": [
                            "<Figure size 146.797x264.88 with 1 Axes>"
                        ]
                    },
                    "execution_count": 18,
                    "metadata": {},
                    "output_type": "execute_result"
                }
            ],
            "source": [
                "q = QuantumRegister(3, 'q')\n",
                "c = ClassicalRegister(2, 'c')\n",
                "\n",
                "qpe = QuantumCircuit(q, c)\n",
                "qpe.h(q[0])  # ancilla qubit |x0>\n",
                "qpe.h(q[1])  # ancilla qubit |x1>\n",
                "qpe.i(q[2]) # |u>\n",
                "qpe.draw('mpl')\n"
            ]
        },
        {
            "cell_type": "code",
            "execution_count": 19,
            "metadata": {},
            "outputs": [
                {
                    "data": {
                        "image/png": "[encoded data removed]",
                        "text/plain": [
                            "<Figure size 327.397x264.88 with 1 Axes>"
                        ]
                    },
                    "execution_count": 19,
                    "metadata": {},
                    "output_type": "execute_result"
                }
            ],
            "source": [
                "# Controlled-U0\n",
                "qpe.cs(q[1], q[2])\n",
                "# Controlled-U1\n",
                "qpe.cs(q[0], q[2])\n",
                "qpe.cs(q[0], q[2])\n",
                "\n",
                "qpe.draw('mpl')"
            ]
        },
        {
            "cell_type": "code",
            "execution_count": 20,
            "metadata": {
                "collapsed": true,
                "deletable": false,
                "editable": false,
                "nbgrader": {
                    "grade": true,
                    "grade_id": "exercise3",
                    "locked": true,
                    "points": "3",
                    "solution": false
                }
            },
            "outputs": [],
            "source": [
                "amplitudes = get_amplitudes(qpe)\n",
                "assert np.allclose(amplitudes, np.array([0.5+0.j, 0.5+0.j, 0.5+0.j, 0.5+0.j, 0. +0.j, 0. +0.j, 0. +0.j, 0. +0.j]))"
            ]
        },
        {
            "cell_type": "markdown",
            "metadata": {},
            "source": [
                "**Exercise 4** (1 point). Apply the same circuit to the other eigenvector. Place your solution in an object called `circuit_2`."
            ]
        },
        {
            "cell_type": "code",
            "execution_count": 21,
            "metadata": {
                "ExecuteTime": {
                    "end_time": "2019-01-31T14:52:12.660880Z",
                    "start_time": "2019-01-31T14:52:12.657762Z"
                },
                "collapsed": true
            },
            "outputs": [
                {
                    "data": {
                        "image/png": "[encoded data removed]",
                        "text/plain": [
                            "<Figure size 327.397x264.88 with 1 Axes>"
                        ]
                    },
                    "execution_count": 21,
                    "metadata": {},
                    "output_type": "execute_result"
                }
            ],
            "source": [
                "q = QuantumRegister(3, 'q')\n",
                "c = ClassicalRegister(2, 'c')\n",
                "\n",
                "qpe = QuantumCircuit(q, c)\n",
                "qpe.h(q[0])  # ancilla qubit |x0>\n",
                "qpe.h(q[1])  # ancilla qubit |x1>\n",
                "qpe.x(q[2]) # |u>   <--------------------change here\n",
                "\n",
                "# Controlled-U0\n",
                "qpe.cs(q[1], q[2])\n",
                "# Controlled-U1\n",
                "qpe.cs(q[0], q[2])\n",
                "qpe.cs(q[0], q[2])\n",
                "\n",
                "qpe.draw('mpl')\n"
            ]
        },
        {
            "cell_type": "code",
            "execution_count": 22,
            "metadata": {
                "collapsed": true,
                "deletable": false,
                "editable": false,
                "nbgrader": {
                    "grade": true,
                    "grade_id": "exercise4",
                    "locked": true,
                    "points": "1",
                    "solution": false
                }
            },
            "outputs": [],
            "source": [
                "amplitudes = get_amplitudes(qpe)\n",
                "assert np.allclose(amplitudes, np.array([ 0. +0.j ,  0. +0.j ,  0. +0.j ,  0. +0.j ,  0.5+0.j , -0.5+0.j ,\n",
                "                                          0. +0.5j,  0. -0.5j]))"
            ]
        }
    ],
    "metadata": {
        "kernelspec": {
            "display_name": "Python 3 [3.6]",
            "language": "python",
            "name": "python3"
        },
        "language_info": {
            "codemirror_mode": {
                "name": "ipython",
                "version": 3
            },
            "file_extension": ".py",
            "mimetype": "text/x-python",
            "name": "python",
            "nbconvert_exporter": "python",
            "pygments_lexer": "ipython3",
            "version": "3.10.2"
        },
        "varInspector": {
            "cols": {
                "lenName": 16,
                "lenType": 16,
                "lenVar": 40
            },
            "kernels_config": {
                "python": {
                    "delete_cmd_postfix": "",
                    "delete_cmd_prefix": "del ",
                    "library": "var_list.py",
                    "varRefreshCmd": "print(var_dic_list())"
                },
                "r": {
                    "delete_cmd_postfix": ") ",
                    "delete_cmd_prefix": "rm(",
                    "library": "var_list.r",
                    "varRefreshCmd": "cat(var_dic_list()) "
                }
            },
            "types_to_exclude": [
                "module",
                "function",
                "builtin_function_or_method",
                "instance",
                "_Feature"
            ],
            "window_display": false
        }
    },
    "nbformat": 4,
    "nbformat_minor": 2
}
