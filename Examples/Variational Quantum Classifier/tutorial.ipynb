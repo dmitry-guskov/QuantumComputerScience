{
 "cells": [
  {
   "cell_type": "code",
   "execution_count": 2,
   "metadata": {},
   "outputs": [],
   "source": [
    "from qiskit import QuantumCircuit, ClassicalRegister, QuantumRegister\n"
   ]
  },
  {
   "cell_type": "code",
   "execution_count": 5,
   "metadata": {},
   "outputs": [],
   "source": [
    "q = QuantumRegister(2)\n",
    "c = ClassicalRegister(2)\n",
    "circuit = QuantumCircuit(q, c)\n",
    "# circuit.h(q[0])\n",
    "# circuit.cx(q[0], q[1])\n"
   ]
  },
  {
   "cell_type": "code",
   "execution_count": 9,
   "metadata": {},
   "outputs": [
    {
     "data": {
      "text/html": [
       "<pre style=\"word-wrap: normal;white-space: pre;background: #fff0;line-height: 1.1;font-family: &quot;Courier New&quot;,Courier,monospace\">      \n",
       "q1_0: \n",
       "      \n",
       "q1_1: \n",
       "      \n",
       "c1: 2/\n",
       "      </pre>"
      ],
      "text/plain": [
       "      \n",
       "q1_0: \n",
       "      \n",
       "q1_1: \n",
       "      \n",
       "c1: 2/\n",
       "      "
      ]
     },
     "execution_count": 9,
     "metadata": {},
     "output_type": "execute_result"
    }
   ],
   "source": [
    "circuit.draw()"
   ]
  },
  {
   "cell_type": "code",
   "execution_count": 20,
   "metadata": {},
   "outputs": [
    {
     "data": {
      "text/plain": [
       "<qiskit.circuit.instructionset.InstructionSet at 0x1393efbece0>"
      ]
     },
     "execution_count": 20,
     "metadata": {},
     "output_type": "execute_result"
    }
   ],
   "source": [
    "circuit.h(q[0])\n",
    "circuit.cx(q[0], q[1])\n"
   ]
  },
  {
   "cell_type": "code",
   "execution_count": 21,
   "metadata": {},
   "outputs": [
    {
     "data": {
      "text/plain": [
       "<qiskit.circuit.instructionset.InstructionSet at 0x1393efbf9d0>"
      ]
     },
     "execution_count": 21,
     "metadata": {},
     "output_type": "execute_result"
    }
   ],
   "source": [
    "circuit.measure(q[0], c[0])"
   ]
  },
  {
   "cell_type": "code",
   "execution_count": 22,
   "metadata": {},
   "outputs": [
    {
     "data": {
      "text/html": [
       "<pre style=\"word-wrap: normal;white-space: pre;background: #fff0;line-height: 1.1;font-family: &quot;Courier New&quot;,Courier,monospace\">      ┌─┐   ┌─┐┌───┐     ┌─┐\n",
       "q1_0: ┤M├───┤M├┤ H ├──■──┤M├\n",
       "      └╥┘┌─┐└╥┘└───┘┌─┴─┐└╥┘\n",
       "q1_1: ─╫─┤M├─╫──────┤ X ├─╫─\n",
       "       ║ └╥┘ ║      └───┘ ║ \n",
       "c1: 2/═╩══╩══╩════════════╩═\n",
       "       0  1  0            0 </pre>"
      ],
      "text/plain": [
       "      ┌─┐   ┌─┐┌───┐     ┌─┐\n",
       "q1_0: ┤M├───┤M├┤ H ├──■──┤M├\n",
       "      └╥┘┌─┐└╥┘└───┘┌─┴─┐└╥┘\n",
       "q1_1: ─╫─┤M├─╫──────┤ X ├─╫─\n",
       "       ║ └╥┘ ║      └───┘ ║ \n",
       "c1: 2/═╩══╩══╩════════════╩═\n",
       "       0  1  0            0 "
      ]
     },
     "execution_count": 22,
     "metadata": {},
     "output_type": "execute_result"
    }
   ],
   "source": [
    "circuit.draw()"
   ]
  },
  {
   "cell_type": "code",
   "execution_count": 19,
   "metadata": {},
   "outputs": [],
   "source": [
    "from qiskit import Aer\n",
    "from qiskit import execute"
   ]
  },
  {
   "cell_type": "code",
   "execution_count": 24,
   "metadata": {},
   "outputs": [],
   "source": [
    "backend = Aer.get_backend('qasm_simulator')\n",
    "job = execute(circuit, backend, shots=100)"
   ]
  },
  {
   "cell_type": "code",
   "execution_count": null,
   "metadata": {},
   "outputs": [],
   "source": []
  },
  {
   "cell_type": "code",
   "execution_count": 29,
   "metadata": {},
   "outputs": [
    {
     "data": {
      "text/plain": [
       "{'01': 50, '00': 50}"
      ]
     },
     "execution_count": 29,
     "metadata": {},
     "output_type": "execute_result"
    }
   ],
   "source": [
    "job.result().get_counts(circuit)"
   ]
  },
  {
   "cell_type": "code",
   "execution_count": 31,
   "metadata": {},
   "outputs": [],
   "source": [
    "from qiskit.quantum_info import Pauli\n",
    "import numpy as np"
   ]
  },
  {
   "cell_type": "code",
   "execution_count": 44,
   "metadata": {},
   "outputs": [
    {
     "data": {
      "text/plain": [
       "<qiskit.circuit.instructionset.InstructionSet at 0x1397ea3e0b0>"
      ]
     },
     "execution_count": 44,
     "metadata": {},
     "output_type": "execute_result"
    }
   ],
   "source": [
    "circuit.u(np.pi/2,np.pi/4, np.pi/3,  qubit=q[0])"
   ]
  },
  {
   "cell_type": "code",
   "execution_count": 45,
   "metadata": {},
   "outputs": [
    {
     "data": {
      "text/html": [
       "<pre style=\"word-wrap: normal;white-space: pre;background: #fff0;line-height: 1.1;font-family: &quot;Courier New&quot;,Courier,monospace\">      ┌─┐   ┌─┐┌───┐     ┌─┐┌──────────────┐┌────────────────┐\n",
       "q1_0: ┤M├───┤M├┤ H ├──■──┤M├┤ U(π/2,π/4,0) ├┤ U(π/2,π/4,π/3) ├\n",
       "      └╥┘┌─┐└╥┘└───┘┌─┴─┐└╥┘└──────────────┘└────────────────┘\n",
       "q1_1: ─╫─┤M├─╫──────┤ X ├─╫───────────────────────────────────\n",
       "       ║ └╥┘ ║      └───┘ ║                                   \n",
       "c1: 2/═╩══╩══╩════════════╩═══════════════════════════════════\n",
       "       0  1  0            0                                   </pre>"
      ],
      "text/plain": [
       "      ┌─┐   ┌─┐┌───┐     ┌─┐┌──────────────┐┌────────────────┐\n",
       "q1_0: ┤M├───┤M├┤ H ├──■──┤M├┤ U(π/2,π/4,0) ├┤ U(π/2,π/4,π/3) ├\n",
       "      └╥┘┌─┐└╥┘└───┘┌─┴─┐└╥┘└──────────────┘└────────────────┘\n",
       "q1_1: ─╫─┤M├─╫──────┤ X ├─╫───────────────────────────────────\n",
       "       ║ └╥┘ ║      └───┘ ║                                   \n",
       "c1: 2/═╩══╩══╩════════════╩═══════════════════════════════════\n",
       "       0  1  0            0                                   "
      ]
     },
     "execution_count": 45,
     "metadata": {},
     "output_type": "execute_result"
    }
   ],
   "source": [
    "circuit.draw()"
   ]
  },
  {
   "cell_type": "code",
   "execution_count": 48,
   "metadata": {},
   "outputs": [],
   "source": [
    "from qiskit.circuit import Parameter, ParameterVector\n",
    "from itertools import cycle"
   ]
  },
  {
   "cell_type": "code",
   "execution_count": 49,
   "metadata": {},
   "outputs": [
    {
     "data": {
      "image/png": "[encoded data removed]",
      "text/plain": [
       "<Figure size 808.997x204.68 with 1 Axes>"
      ]
     },
     "execution_count": 49,
     "metadata": {},
     "output_type": "execute_result"
    }
   ],
   "source": [
    "n_qubits = 3\n",
    "n_layers = 3\n",
    "\n",
    "paramsvec = ParameterVector(\"test\", n_layers)\n",
    "pv_iterator = cycle(paramsvec)\n",
    "\n",
    "circ = QuantumCircuit(n_qubits)\n",
    "\n",
    "for layer in range(n_layers):\n",
    "        for i in range(n_qubits):\n",
    "            circ.rx(next(pv_iterator), i)\n",
    "            circ.rz(next(pv_iterator), i)\n",
    "            circ.rx(next(pv_iterator), i)\n",
    "        for i in range(0, n_qubits - 1, 2):\n",
    "            circ.rxx(next(pv_iterator), i, i+1)\n",
    "circ.draw('mpl')"
   ]
  },
  {
   "cell_type": "code",
   "execution_count": 55,
   "metadata": {},
   "outputs": [
    {
     "data": {
      "text/plain": [
       "<qiskit.circuit.quantumcircuit.QuantumCircuit at 0x1390bab0910>"
      ]
     },
     "execution_count": 55,
     "metadata": {},
     "output_type": "execute_result"
    }
   ],
   "source": [
    "circ.assign_parameters(np.random.uniform(0, np.pi, len(circ.parameters)))"
   ]
  },
  {
   "cell_type": "code",
   "execution_count": 56,
   "metadata": {},
   "outputs": [
    {
     "data": {
      "text/html": [
       "<pre style=\"word-wrap: normal;white-space: pre;background: #fff0;line-height: 1.1;font-family: &quot;Courier New&quot;,Courier,monospace\">     ┌─────────────┐┌─────────────┐┌─────────────┐┌───────────────┐»\n",
       "q_0: ┤ Rx(test[0]) ├┤ Rz(test[1]) ├┤ Rx(test[2]) ├┤0              ├»\n",
       "     ├─────────────┤├─────────────┤├─────────────┤│  Rxx(test[0]) │»\n",
       "q_1: ┤ Rx(test[0]) ├┤ Rz(test[1]) ├┤ Rx(test[2]) ├┤1              ├»\n",
       "     ├─────────────┤├─────────────┤├─────────────┤└┬─────────────┬┘»\n",
       "q_2: ┤ Rx(test[0]) ├┤ Rz(test[1]) ├┤ Rx(test[2]) ├─┤ Rx(test[1]) ├─»\n",
       "     └─────────────┘└─────────────┘└─────────────┘ └─────────────┘ »\n",
       "«     ┌─────────────┐┌─────────────┐┌─────────────┐┌───────────────┐»\n",
       "«q_0: ┤ Rx(test[1]) ├┤ Rz(test[2]) ├┤ Rx(test[0]) ├┤0              ├»\n",
       "«     ├─────────────┤├─────────────┤├─────────────┤│  Rxx(test[1]) │»\n",
       "«q_1: ┤ Rx(test[1]) ├┤ Rz(test[2]) ├┤ Rx(test[0]) ├┤1              ├»\n",
       "«     ├─────────────┤├─────────────┤├─────────────┤└┬─────────────┬┘»\n",
       "«q_2: ┤ Rz(test[2]) ├┤ Rx(test[0]) ├┤ Rx(test[2]) ├─┤ Rz(test[0]) ├─»\n",
       "«     └─────────────┘└─────────────┘└─────────────┘ └─────────────┘ »\n",
       "«     ┌─────────────┐┌─────────────┐┌─────────────┐┌───────────────┐\n",
       "«q_0: ┤ Rx(test[2]) ├┤ Rz(test[0]) ├┤ Rx(test[1]) ├┤0              ├\n",
       "«     ├─────────────┤├─────────────┤├─────────────┤│  Rxx(test[2]) │\n",
       "«q_1: ┤ Rx(test[2]) ├┤ Rz(test[0]) ├┤ Rx(test[1]) ├┤1              ├\n",
       "«     ├─────────────┤└─────────────┘└─────────────┘└───────────────┘\n",
       "«q_2: ┤ Rx(test[1]) ├───────────────────────────────────────────────\n",
       "«     └─────────────┘                                               </pre>"
      ],
      "text/plain": [
       "     ┌─────────────┐┌─────────────┐┌─────────────┐┌───────────────┐»\n",
       "q_0: ┤ Rx(test[0]) ├┤ Rz(test[1]) ├┤ Rx(test[2]) ├┤0              ├»\n",
       "     ├─────────────┤├─────────────┤├─────────────┤│  Rxx(test[0]) │»\n",
       "q_1: ┤ Rx(test[0]) ├┤ Rz(test[1]) ├┤ Rx(test[2]) ├┤1              ├»\n",
       "     ├─────────────┤├─────────────┤├─────────────┤└┬─────────────┬┘»\n",
       "q_2: ┤ Rx(test[0]) ├┤ Rz(test[1]) ├┤ Rx(test[2]) ├─┤ Rx(test[1]) ├─»\n",
       "     └─────────────┘└─────────────┘└─────────────┘ └─────────────┘ »\n",
       "«     ┌─────────────┐┌─────────────┐┌─────────────┐┌───────────────┐»\n",
       "«q_0: ┤ Rx(test[1]) ├┤ Rz(test[2]) ├┤ Rx(test[0]) ├┤0              ├»\n",
       "«     ├─────────────┤├─────────────┤├─────────────┤│  Rxx(test[1]) │»\n",
       "«q_1: ┤ Rx(test[1]) ├┤ Rz(test[2]) ├┤ Rx(test[0]) ├┤1              ├»\n",
       "«     ├─────────────┤├─────────────┤├─────────────┤└┬─────────────┬┘»\n",
       "«q_2: ┤ Rz(test[2]) ├┤ Rx(test[0]) ├┤ Rx(test[2]) ├─┤ Rz(test[0]) ├─»\n",
       "«     └─────────────┘└─────────────┘└─────────────┘ └─────────────┘ »\n",
       "«     ┌─────────────┐┌─────────────┐┌─────────────┐┌───────────────┐\n",
       "«q_0: ┤ Rx(test[2]) ├┤ Rz(test[0]) ├┤ Rx(test[1]) ├┤0              ├\n",
       "«     ├─────────────┤├─────────────┤├─────────────┤│  Rxx(test[2]) │\n",
       "«q_1: ┤ Rx(test[2]) ├┤ Rz(test[0]) ├┤ Rx(test[1]) ├┤1              ├\n",
       "«     ├─────────────┤└─────────────┘└─────────────┘└───────────────┘\n",
       "«q_2: ┤ Rx(test[1]) ├───────────────────────────────────────────────\n",
       "«     └─────────────┘                                               "
      ]
     },
     "execution_count": 56,
     "metadata": {},
     "output_type": "execute_result"
    },
    {
     "ename": "",
     "evalue": "",
     "output_type": "error",
     "traceback": [
      "\u001b[1;31mThe Kernel crashed while executing code in the current cell or a previous cell. \n",
      "\u001b[1;31mPlease review the code in the cell(s) to identify a possible cause of the failure. \n",
      "\u001b[1;31mClick <a href='https://aka.ms/vscodeJupyterKernelCrash'>here</a> for more info. \n",
      "\u001b[1;31mView Jupyter <a href='command:jupyter.viewOutput'>log</a> for further details."
     ]
    }
   ],
   "source": [
    "circ.draw()"
   ]
  },
  {
   "cell_type": "code",
   "execution_count": null,
   "metadata": {},
   "outputs": [],
   "source": []
  }
 ],
 "metadata": {
  "kernelspec": {
   "display_name": "Python 3",
   "language": "python",
   "name": "python3"
  },
  "language_info": {
   "codemirror_mode": {
    "name": "ipython",
    "version": 3
   },
   "file_extension": ".py",
   "mimetype": "text/x-python",
   "name": "python",
   "nbconvert_exporter": "python",
   "pygments_lexer": "ipython3",
   "version": "3.10.2"
  }
 },
 "nbformat": 4,
 "nbformat_minor": 2
}
